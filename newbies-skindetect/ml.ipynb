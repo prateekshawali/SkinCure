{
  "nbformat": 4,
  "nbformat_minor": 0,
  "metadata": {
    "colab": {
      "provenance": [],
      "gpuType": "T4",
      "authorship_tag": "ABX9TyPtQf7COZBTDFE/fItgz7KY",
      "include_colab_link": true
    },
    "kernelspec": {
      "name": "python3",
      "display_name": "Python 3"
    },
    "language_info": {
      "name": "python"
    },
    "accelerator": "GPU"
  },
  "cells": [
    {
      "cell_type": "markdown",
      "metadata": {
        "id": "view-in-github",
        "colab_type": "text"
      },
      "source": [
        "<a href=\"https://colab.research.google.com/github/ruthujain/newbies-skindetect/blob/main/ml.ipynb\" target=\"_parent\"><img src=\"https://colab.research.google.com/assets/colab-badge.svg\" alt=\"Open In Colab\"/></a>"
      ]
    },
    {
      "cell_type": "code",
      "execution_count": null,
      "metadata": {
        "id": "pBnoZxeuxFv1"
      },
      "outputs": [],
      "source": []
    },
    {
      "cell_type": "code",
      "source": [
        "from google.colab import drive\n",
        "drive.mount('/content/drive')"
      ],
      "metadata": {
        "id": "ZLG-pmGm1bUi",
        "colab": {
          "base_uri": "https://localhost:8080/"
        },
        "outputId": "974add26-6bf2-4422-dca6-1a42d9958e31"
      },
      "execution_count": null,
      "outputs": [
        {
          "output_type": "stream",
          "name": "stdout",
          "text": [
            "Mounted at /content/drive\n"
          ]
        }
      ]
    },
    {
      "cell_type": "code",
      "source": [
        "import os\n",
        "import tensorflow as tf\n",
        "from tensorflow.keras.applications.mobilenet_v2 import MobileNetV2,preprocess_input\n",
        "from tensorflow.keras.layers import Dense,Conv2D,GlobalAvgPool2D,Input\n",
        "from tensorflow.keras.preprocessing.image import load_img, ImageDataGenerator\n",
        "from tensorflow.keras import callbacks,optimizers\n",
        "import numpy as np\n",
        "from google.colab import drive\n"
      ],
      "metadata": {
        "id": "_dn6xYxYxaPO"
      },
      "execution_count": null,
      "outputs": []
    },
    {
      "cell_type": "code",
      "source": [
        "drive.mount('/content/drive')"
      ],
      "metadata": {
        "id": "QWYYhsF5xaRS",
        "colab": {
          "base_uri": "https://localhost:8080/"
        },
        "outputId": "183850c5-9c5f-4226-cb3d-9b99386c2d12"
      },
      "execution_count": null,
      "outputs": [
        {
          "output_type": "stream",
          "name": "stdout",
          "text": [
            "Drive already mounted at /content/drive; to attempt to forcibly remount, call drive.mount(\"/content/drive\", force_remount=True).\n"
          ]
        }
      ]
    },
    {
      "cell_type": "code",
      "source": [
        "%cd /content/drive/MyDrive/skin_final/dataset/"
      ],
      "metadata": {
        "id": "tOvKWlI2xaTt",
        "colab": {
          "base_uri": "https://localhost:8080/"
        },
        "outputId": "f7e00e6f-01f3-46b1-fd22-1fd7916d5bc7"
      },
      "execution_count": null,
      "outputs": [
        {
          "output_type": "stream",
          "name": "stdout",
          "text": [
            "/content/drive/MyDrive/skin_final/dataset\n"
          ]
        }
      ]
    },
    {
      "cell_type": "code",
      "source": [
        "for i in os.listdir(\"dataset\"):\n",
        "  print(i)"
      ],
      "metadata": {
        "id": "ZiLf9E2bxaXV",
        "colab": {
          "base_uri": "https://localhost:8080/",
          "height": 161
        },
        "outputId": "74020b8c-173d-4b54-9f43-54ff66572660"
      },
      "execution_count": null,
      "outputs": [
        {
          "output_type": "error",
          "ename": "FileNotFoundError",
          "evalue": "[Errno 2] No such file or directory: 'dataset'",
          "traceback": [
            "\u001b[0;31m---------------------------------------------------------------------------\u001b[0m",
            "\u001b[0;31mFileNotFoundError\u001b[0m                         Traceback (most recent call last)",
            "\u001b[0;32m<ipython-input-5-7fd65223295e>\u001b[0m in \u001b[0;36m<cell line: 1>\u001b[0;34m()\u001b[0m\n\u001b[0;32m----> 1\u001b[0;31m \u001b[0;32mfor\u001b[0m \u001b[0mi\u001b[0m \u001b[0;32min\u001b[0m \u001b[0mos\u001b[0m\u001b[0;34m.\u001b[0m\u001b[0mlistdir\u001b[0m\u001b[0;34m(\u001b[0m\u001b[0;34m\"dataset\"\u001b[0m\u001b[0;34m)\u001b[0m\u001b[0;34m:\u001b[0m\u001b[0;34m\u001b[0m\u001b[0;34m\u001b[0m\u001b[0m\n\u001b[0m\u001b[1;32m      2\u001b[0m   \u001b[0mprint\u001b[0m\u001b[0;34m(\u001b[0m\u001b[0mi\u001b[0m\u001b[0;34m)\u001b[0m\u001b[0;34m\u001b[0m\u001b[0;34m\u001b[0m\u001b[0m\n",
            "\u001b[0;31mFileNotFoundError\u001b[0m: [Errno 2] No such file or directory: 'dataset'"
          ]
        }
      ]
    },
    {
      "cell_type": "code",
      "source": [
        "for i in os.listdir(\"dataset\"):\n",
        "  print(i,len(os.listdir(\"dataset/\"+i)))"
      ],
      "metadata": {
        "colab": {
          "base_uri": "https://localhost:8080/",
          "height": 161
        },
        "id": "TcX9MV2Oa1SM",
        "outputId": "6284798e-9714-49c8-fc67-ce6fa7605535"
      },
      "execution_count": null,
      "outputs": [
        {
          "output_type": "error",
          "ename": "FileNotFoundError",
          "evalue": "[Errno 2] No such file or directory: 'dataset'",
          "traceback": [
            "\u001b[0;31m---------------------------------------------------------------------------\u001b[0m",
            "\u001b[0;31mFileNotFoundError\u001b[0m                         Traceback (most recent call last)",
            "\u001b[0;32m<ipython-input-6-057b2f08583b>\u001b[0m in \u001b[0;36m<cell line: 1>\u001b[0;34m()\u001b[0m\n\u001b[0;32m----> 1\u001b[0;31m \u001b[0;32mfor\u001b[0m \u001b[0mi\u001b[0m \u001b[0;32min\u001b[0m \u001b[0mos\u001b[0m\u001b[0;34m.\u001b[0m\u001b[0mlistdir\u001b[0m\u001b[0;34m(\u001b[0m\u001b[0;34m\"dataset\"\u001b[0m\u001b[0;34m)\u001b[0m\u001b[0;34m:\u001b[0m\u001b[0;34m\u001b[0m\u001b[0;34m\u001b[0m\u001b[0m\n\u001b[0m\u001b[1;32m      2\u001b[0m   \u001b[0mprint\u001b[0m\u001b[0;34m(\u001b[0m\u001b[0mi\u001b[0m\u001b[0;34m,\u001b[0m\u001b[0mlen\u001b[0m\u001b[0;34m(\u001b[0m\u001b[0mos\u001b[0m\u001b[0;34m.\u001b[0m\u001b[0mlistdir\u001b[0m\u001b[0;34m(\u001b[0m\u001b[0;34m\"dataset/\"\u001b[0m\u001b[0;34m+\u001b[0m\u001b[0mi\u001b[0m\u001b[0;34m)\u001b[0m\u001b[0;34m)\u001b[0m\u001b[0;34m)\u001b[0m\u001b[0;34m\u001b[0m\u001b[0;34m\u001b[0m\u001b[0m\n",
            "\u001b[0;31mFileNotFoundError\u001b[0m: [Errno 2] No such file or directory: 'dataset'"
          ]
        }
      ]
    },
    {
      "cell_type": "code",
      "source": [
        "import os\n",
        "\n",
        "# List the content of the current directory to verify its contents\n",
        "!ls\n",
        "\n",
        "# Change the current working directory to the one containing the 'dataset' directory if needed.\n",
        "# For example, if 'dataset' is in '/content/drive/MyDrive/skin_final/', use:\n",
        "%cd /content/drive/MyDrive/skin_final/\n",
        "\n",
        "# Now try listing the contents of the 'dataset' directory\n",
        "for i in os.listdir(\"dataset\"):\n",
        "    print(i,len(os.listdir(\"dataset/\"+i))) # Fix the path concatenation here"
      ],
      "metadata": {
        "colab": {
          "base_uri": "https://localhost:8080/"
        },
        "id": "ZEQK75ynX96O",
        "outputId": "8cfeca43-a4a5-4cd8-e25d-1cdfe6a3f5cb"
      },
      "execution_count": null,
      "outputs": [
        {
          "output_type": "stream",
          "name": "stdout",
          "text": [
            "'1. Eczema 1677'\t\t      '5. Melanocytic Nevi (NV) - 7970'\n",
            "'4. Basal Cell Carcinoma (BCC) 3323'  '6. Benign Keratosis-like Lesions (BKL) 2624'\n",
            "/content/drive/MyDrive/skin_final\n",
            "5. Melanocytic Nevi (NV) - 7970 0\n",
            "1. Eczema 1677 0\n",
            "4. Basal Cell Carcinoma (BCC) 3323 0\n",
            "6. Benign Keratosis-like Lesions (BKL) 2624 0\n"
          ]
        }
      ]
    },
    {
      "cell_type": "code",
      "source": [
        "import os\n",
        "import shutil\n",
        "\n",
        "try:\n",
        "  os.mkdir(\"trainn\")\n",
        "  os.mkdir(\"testt\")\n",
        "except:\n",
        "  pass\n",
        "\n",
        "for i in os.listdir(\"dataset\"):\n",
        "  try:\n",
        "    os.mkdir(\"trainn/\"+i)\n",
        "    os.mkdir(\"testt/\"+i)\n",
        "  except:\n",
        "    pass\n",
        "  for j in os.listdir(\"dataset/\"+i)[:1000]:\n",
        "    shutil.copy2(\"dataset/\"+i+\"/\"+j, \"trainn/\"+i+\"/\"+j)  # Copy instead of rename\n",
        "  for j in os.listdir(\"dataset/\"+i)[1000:]:\n",
        "    shutil.copy2(\"dataset/\"+i+\"/\"+j, \"testt/\"+i+\"/\"+j)   # Copy instead of rename"
      ],
      "metadata": {
        "id": "SyRT_lPbhphs"
      },
      "execution_count": null,
      "outputs": []
    },
    {
      "cell_type": "code",
      "source": [],
      "metadata": {
        "id": "XSfnd8qBh1-d"
      },
      "execution_count": null,
      "outputs": []
    },
    {
      "cell_type": "code",
      "source": [
        "!ls testt\n"
      ],
      "metadata": {
        "colab": {
          "base_uri": "https://localhost:8080/"
        },
        "id": "W51IWP0ahpvv",
        "outputId": "7a72d2c9-7b9d-4efc-ee96-7fe443bf5b22"
      },
      "execution_count": null,
      "outputs": [
        {
          "output_type": "stream",
          "name": "stdout",
          "text": [
            "'1. Eczema 1677'\t\t      '5. Melanocytic Nevi (NV) - 7970'\n",
            "'4. Basal Cell Carcinoma (BCC) 3323'  '6. Benign Keratosis-like Lesions (BKL) 2624'\n"
          ]
        }
      ]
    },
    {
      "cell_type": "code",
      "source": [
        "class_names = os.listdir(\"trainn\")\n",
        "print(class_names)"
      ],
      "metadata": {
        "colab": {
          "base_uri": "https://localhost:8080/"
        },
        "id": "QPZZJQA3MNt4",
        "outputId": "f0dad0e3-971f-4d4e-abb9-e8696f4dcd12"
      },
      "execution_count": null,
      "outputs": [
        {
          "output_type": "stream",
          "name": "stdout",
          "text": [
            "['5. Melanocytic Nevi (NV) - 7970', '1. Eczema 1677', '4. Basal Cell Carcinoma (BCC) 3323', '6. Benign Keratosis-like Lesions (BKL) 2624']\n"
          ]
        }
      ]
    },
    {
      "cell_type": "code",
      "source": [
        "def img_Data(dir_path,target_size,batch,class_lst,preprocessing):\n",
        "  if preprocessing:\n",
        "    gen_object = ImageDataGenerator(preprocessing_function=preprocessing)\n",
        "  else:\n",
        "    gen_object = ImageDataGenerator()\n",
        "  return (gen_object.flow_from_directory(dir_path,\n",
        "                                         target_size=target_size,\n",
        "                                         batch_size=batch,\n",
        "                                         class_mode=\"sparse\",\n",
        "                                         classes=class_lst,\n",
        "                                         shuffle=True))"
      ],
      "metadata": {
        "id": "QEJXOmlgipgZ"
      },
      "execution_count": null,
      "outputs": []
    },
    {
      "cell_type": "code",
      "source": [
        "train_data_gen= img_Data(\"trainn\",(224,224),500,os.listdir(\"trainn\"),preprocess_input)\n",
        "valid_data_gen= img_Data(\"testt\",(224,224),500,os.listdir(\"testt\"),preprocess_input)\n"
      ],
      "metadata": {
        "colab": {
          "base_uri": "https://localhost:8080/"
        },
        "id": "ajU6ILWkipj7",
        "outputId": "f79065a4-4f0a-4877-8cda-1da948d2f2d4"
      },
      "execution_count": null,
      "outputs": [
        {
          "output_type": "stream",
          "name": "stdout",
          "text": [
            "Found 4773 images belonging to 4 classes.\n",
            "Found 840 images belonging to 4 classes.\n"
          ]
        }
      ]
    },
    {
      "cell_type": "code",
      "source": [
        "base_model=tf.keras.applications.MobileNetV2(\n",
        "            input_shape=(224,224,3),alpha=1.0,include_top=False,weights='imagenet',\n",
        "            input_tensor=None,pooling=None,classes=1000,\n",
        "            classifier_activation='softmax')"
      ],
      "metadata": {
        "id": "Y7VI6Dkyoxwd",
        "colab": {
          "base_uri": "https://localhost:8080/"
        },
        "outputId": "0480870d-8388-4334-c95b-4449af7341fb"
      },
      "execution_count": null,
      "outputs": [
        {
          "output_type": "stream",
          "name": "stdout",
          "text": [
            "Downloading data from https://storage.googleapis.com/tensorflow/keras-applications/mobilenet_v2/mobilenet_v2_weights_tf_dim_ordering_tf_kernels_1.0_224_no_top.h5\n",
            "9406464/9406464 [==============================] - 1s 0us/step\n"
          ]
        }
      ]
    },
    {
      "cell_type": "code",
      "source": [
        "base_model.trainable=False"
      ],
      "metadata": {
        "id": "g_BELkCSpcRk"
      },
      "execution_count": null,
      "outputs": []
    },
    {
      "cell_type": "code",
      "source": [
        "model=tf.keras.Sequential()\n",
        "model.add(base_model)\n",
        "model.add(GlobalAvgPool2D())\n",
        "model.add(Dense(1024,activation=\"relu\"))\n",
        "model.add(Dense(4,activation=\"softmax\"))\n",
        "\n",
        "model.compile(optimizer='adam',\n",
        "              loss=\"sparse_categorical_crossentropy\",\n",
        "              metrics=[\"accuracy\"])"
      ],
      "metadata": {
        "id": "Ebrl_BJSpe2Z"
      },
      "execution_count": null,
      "outputs": []
    },
    {
      "cell_type": "code",
      "source": [
        "model.summary()"
      ],
      "metadata": {
        "colab": {
          "base_uri": "https://localhost:8080/"
        },
        "id": "0SNoiwmtqwe1",
        "outputId": "313f3598-1aac-4857-cbb0-9bc53a313aaa"
      },
      "execution_count": null,
      "outputs": [
        {
          "output_type": "stream",
          "name": "stdout",
          "text": [
            "Model: \"sequential\"\n",
            "_________________________________________________________________\n",
            " Layer (type)                Output Shape              Param #   \n",
            "=================================================================\n",
            " mobilenetv2_1.00_224 (Func  (None, 7, 7, 1280)        2257984   \n",
            " tional)                                                         \n",
            "                                                                 \n",
            " global_average_pooling2d (  (None, 1280)              0         \n",
            " GlobalAveragePooling2D)                                         \n",
            "                                                                 \n",
            " dense (Dense)               (None, 1024)              1311744   \n",
            "                                                                 \n",
            " dense_1 (Dense)             (None, 20)                20500     \n",
            "                                                                 \n",
            "=================================================================\n",
            "Total params: 3590228 (13.70 MB)\n",
            "Trainable params: 1332244 (5.08 MB)\n",
            "Non-trainable params: 2257984 (8.61 MB)\n",
            "_________________________________________________________________\n"
          ]
        }
      ]
    },
    {
      "cell_type": "code",
      "source": [
        "elst=callbacks.EarlyStopping(monitor=\"val_loss\",patience=5,mode='min')\n",
        "save_ck=callbacks.ModelCheckpoint(\"md1_wt.hdf5\",monitor=\"val_loss\",mode=\"min\",save_best_only=True)"
      ],
      "metadata": {
        "id": "VGmClfgFpsiC"
      },
      "execution_count": null,
      "outputs": []
    },
    {
      "cell_type": "code",
      "source": [
        "model.fit(train_data_gen,\n",
        "          batch_size=16,\n",
        "          validation_data=valid_data_gen,\n",
        "          callbacks=[elst,save_ck],\n",
        "          epochs=10)"
      ],
      "metadata": {
        "colab": {
          "base_uri": "https://localhost:8080/"
        },
        "id": "syblfm9xrMmY",
        "outputId": "fc2fcd0c-830a-49d7-e6f9-4f13eca87828"
      },
      "execution_count": null,
      "outputs": [
        {
          "output_type": "stream",
          "name": "stdout",
          "text": [
            "Epoch 1/10\n",
            "10/10 [==============================] - ETA: 0s - loss: 0.8515 - accuracy: 0.6845  "
          ]
        },
        {
          "output_type": "stream",
          "name": "stderr",
          "text": [
            "/usr/local/lib/python3.10/dist-packages/keras/src/engine/training.py:3103: UserWarning: You are saving your model as an HDF5 file via `model.save()`. This file format is considered legacy. We recommend using instead the native Keras format, e.g. `model.save('my_model.keras')`.\n",
            "  saving_api.save_model(\n"
          ]
        },
        {
          "output_type": "stream",
          "name": "stdout",
          "text": [
            "\b\b\b\b\b\b\b\b\b\b\b\b\b\b\b\b\b\b\b\b\b\b\b\b\b\b\b\b\b\b\b\b\b\b\b\b\b\b\b\b\b\b\b\b\b\b\b\b\b\b\b\b\b\b\b\b\b\b\b\b\b\b\b\b\b\b\b\b\b\b\b\b\b\b\b\b\b\b\b\b\b\b\r10/10 [==============================] - 2926s 307s/step - loss: 0.8515 - accuracy: 0.6845 - val_loss: 0.6491 - val_accuracy: 0.7655\n",
            "Epoch 2/10\n",
            "10/10 [==============================] - 382s 36s/step - loss: 0.5151 - accuracy: 0.7938 - val_loss: 0.5360 - val_accuracy: 0.8012\n",
            "Epoch 3/10\n",
            "10/10 [==============================] - 387s 38s/step - loss: 0.3891 - accuracy: 0.8401 - val_loss: 0.3985 - val_accuracy: 0.8369\n",
            "Epoch 4/10\n",
            "10/10 [==============================] - 366s 36s/step - loss: 0.3236 - accuracy: 0.8724 - val_loss: 0.3972 - val_accuracy: 0.8310\n",
            "Epoch 5/10\n",
            "10/10 [==============================] - 372s 36s/step - loss: 0.2852 - accuracy: 0.8883 - val_loss: 0.3418 - val_accuracy: 0.8690\n",
            "Epoch 6/10\n",
            "10/10 [==============================] - 376s 37s/step - loss: 0.2484 - accuracy: 0.9103 - val_loss: 0.2818 - val_accuracy: 0.9036\n",
            "Epoch 7/10\n",
            "10/10 [==============================] - 393s 39s/step - loss: 0.2220 - accuracy: 0.9242 - val_loss: 0.2653 - val_accuracy: 0.9107\n",
            "Epoch 8/10\n",
            "10/10 [==============================] - 380s 37s/step - loss: 0.1945 - accuracy: 0.9332 - val_loss: 0.2290 - val_accuracy: 0.9262\n",
            "Epoch 9/10\n",
            "10/10 [==============================] - 378s 37s/step - loss: 0.1704 - accuracy: 0.9478 - val_loss: 0.1921 - val_accuracy: 0.9417\n",
            "Epoch 10/10\n",
            "10/10 [==============================] - 393s 39s/step - loss: 0.1467 - accuracy: 0.9579 - val_loss: 0.1867 - val_accuracy: 0.9464\n"
          ]
        },
        {
          "output_type": "execute_result",
          "data": {
            "text/plain": [
              "<keras.src.callbacks.History at 0x7d699a149030>"
            ]
          },
          "metadata": {},
          "execution_count": 17
        }
      ]
    },
    {
      "cell_type": "code",
      "source": [
        "import pickle\n"
      ],
      "metadata": {
        "id": "Opov9cvFrMot"
      },
      "execution_count": null,
      "outputs": []
    },
    {
      "cell_type": "code",
      "source": [
        "with open(\"model.pkl\",\"wb\") as f:\n",
        "  pickle.dump(model,f)"
      ],
      "metadata": {
        "id": "4F4SShKHrMsG"
      },
      "execution_count": null,
      "outputs": []
    },
    {
      "cell_type": "code",
      "source": [
        "# Import necessary libraries\n",
        "from google.colab import drive\n",
        "from tensorflow.keras.preprocessing import image\n",
        "import numpy as np\n",
        "import pickle\n",
        "\n",
        "\n",
        "# Load the trained model from a pickle file\n",
        "with open('model.pkl', 'rb') as f:\n",
        "    model = pickle.load(f)\n",
        "\n",
        "# Load and preprocess the image\n",
        "img_path = '/content/drive/MyDrive/skin_final/trainn/4. Basal Cell Carcinoma (BCC) 3323/ISIC_0026230.jpg'\n",
        "img = image.load_img(img_path, target_size=(224, 224))  # Adjust target_size if needed\n",
        "img_array = image.img_to_array(img)\n",
        "img_array = np.expand_dims(img_array, axis=0)  # Add batch dimension\n",
        "img_array /= 255.0  # Normalize pixel values\n",
        "\n",
        "# Make the prediction\n",
        "prediction = model.predict(img_array)\n",
        "\n",
        "# Print the raw prediction result\n",
        "print(prediction)\n",
        "\n",
        "# Get the index of the predicted class\n",
        "predicted_class_index = np.argmax(prediction)\n",
        "print(predicted_class_index)  # Output the predicted class index\n",
        "\n",
        "# Define the class names\n",
        "class_names = ['melanocytic', 'eczema', 'basal cell','benign']  # Replace with your actual class names\n",
        "\n",
        "# Get the name of the predicted class\n",
        "predicted_class_name = class_names[predicted_class_index]\n",
        "\n",
        "# Print the predicted class index and name\n",
        "print(f\"Predicted class index: {predicted_class_index}\")\n",
        "print(f\"Predicted class name: {predicted_class_name}\")"
      ],
      "metadata": {
        "id": "66adP6ZOyCTb"
      },
      "execution_count": null,
      "outputs": []
    },
    {
      "cell_type": "code",
      "source": [],
      "metadata": {
        "id": "I4EbNOASyCnO"
      },
      "execution_count": null,
      "outputs": []
    },
    {
      "cell_type": "code",
      "source": [],
      "metadata": {
        "id": "rzWjvXA9yCpt"
      },
      "execution_count": null,
      "outputs": []
    },
    {
      "cell_type": "code",
      "source": [],
      "metadata": {
        "id": "dMXZPOvdyCsO"
      },
      "execution_count": null,
      "outputs": []
    },
    {
      "cell_type": "code",
      "source": [],
      "metadata": {
        "id": "iLeaWDuVyCvn"
      },
      "execution_count": null,
      "outputs": []
    }
  ]
}