{
  "nbformat": 4,
  "nbformat_minor": 0,
  "metadata": {
    "colab": {
      "provenance": [],
      "authorship_tag": "ABX9TyM/Nm73SEnYstnD9FpSMza9",
      "include_colab_link": true
    },
    "kernelspec": {
      "name": "python3",
      "display_name": "Python 3"
    },
    "language_info": {
      "name": "python"
    }
  },
  "cells": [
    {
      "cell_type": "markdown",
      "metadata": {
        "id": "view-in-github",
        "colab_type": "text"
      },
      "source": [
        "<a href=\"https://colab.research.google.com/github/ruthujain/newbies-skindetect/blob/main/predict.ipynb\" target=\"_parent\"><img src=\"https://colab.research.google.com/assets/colab-badge.svg\" alt=\"Open In Colab\"/></a>"
      ]
    },
    {
      "cell_type": "code",
      "execution_count": 1,
      "metadata": {
        "colab": {
          "base_uri": "https://localhost:8080/"
        },
        "id": "SvvCwpuaf4FA",
        "outputId": "5c13e6bc-de7d-4b7a-a920-8cf4807a4a59"
      },
      "outputs": [
        {
          "output_type": "stream",
          "name": "stdout",
          "text": [
            "Mounted at /content/drive\n"
          ]
        }
      ],
      "source": [
        "from google.colab import drive\n",
        "drive.mount('/content/drive')"
      ]
    },
    {
      "cell_type": "code",
      "source": [
        "cd /content/drive/MyDrive/skin_final/"
      ],
      "metadata": {
        "colab": {
          "base_uri": "https://localhost:8080/"
        },
        "id": "dMqJY6jbgBC7",
        "outputId": "2a8e52bf-0b0c-477d-8ea5-2700d2bdf3f4"
      },
      "execution_count": 2,
      "outputs": [
        {
          "output_type": "stream",
          "name": "stdout",
          "text": [
            "/content/drive/MyDrive/skin_final\n"
          ]
        }
      ]
    },
    {
      "cell_type": "code",
      "source": [],
      "metadata": {
        "id": "AH6QMrt7gBFG"
      },
      "execution_count": null,
      "outputs": []
    },
    {
      "cell_type": "code",
      "source": [],
      "metadata": {
        "id": "D3uyImyIgBHe"
      },
      "execution_count": null,
      "outputs": []
    },
    {
      "cell_type": "code",
      "source": [
        "# Import necessary libraries\n",
        "from google.colab import drive\n",
        "from tensorflow.keras.preprocessing import image\n",
        "import numpy as np\n",
        "import pickle\n",
        "\n",
        "\n",
        "# Load the trained model from a pickle file\n",
        "with open('model.pkl', 'rb') as f:\n",
        "    model = pickle.load(f)\n",
        "\n",
        "# Load and preprocess the image\n",
        "img_path = '/content/drive/MyDrive/skin_final/trainn/5. Melanocytic Nevi (NV) - 7970/ISIC_0000087_downsampled.jpg'\n",
        "img = image.load_img(img_path, target_size=(224, 224))  # Adjust target_size if needed\n",
        "img_array = image.img_to_array(img)\n",
        "img_array = np.expand_dims(img_array, axis=0)  # Add batch dimension\n",
        "img_array /= 255.0  # Normalize pixel values\n",
        "\n",
        "# Make the prediction\n",
        "prediction = model.predict(img_array)\n",
        "\n",
        "# Print the raw prediction result\n",
        "print(prediction)\n",
        "\n",
        "# Get the index of the predicted class\n",
        "predicted_class_index = np.argmax(prediction)\n",
        "print(predicted_class_index)  # Output the predicted class index\n",
        "\n",
        "# Define the class names\n",
        "class_names = ['melanocytic', 'eczema', 'basal cell','benign']  # Replace with your actual class names\n",
        "\n",
        "# Get the name of the predicted class\n",
        "predicted_class_name = class_names[predicted_class_index]\n",
        "\n",
        "# Print the predicted class index and name\n",
        "print(f\"Predicted class index: {predicted_class_index}\")\n",
        "print(f\"Predicted class name: {predicted_class_name}\")"
      ],
      "metadata": {
        "colab": {
          "base_uri": "https://localhost:8080/"
        },
        "id": "SFah5kS3gBLC",
        "outputId": "99c8e722-7884-4a82-d0be-effebfb45c61"
      },
      "execution_count": 4,
      "outputs": [
        {
          "output_type": "stream",
          "name": "stdout",
          "text": [
            "1/1 [==============================] - 1s 899ms/step\n",
            "[[8.4917799e-02 3.1665424e-04 5.0892240e-01 4.0584311e-01]]\n",
            "2\n",
            "Predicted class index: 2\n",
            "Predicted class name: basal cell\n"
          ]
        }
      ]
    },
    {
      "cell_type": "code",
      "source": [
        "import numpy as np\n",
        "\n",
        "prediction = np.array([[9.7814333e-01, 3.5671852e-09 ,9.6765980e-05, 2.1759892e-02, 1.0386223e-14,\n",
        "  1.6016135e-15, 1.0049407e-14, 1.5107938e-15, 1.7129541e-14 ,1.3892420e-14,\n",
        "  3.1148212e-13, 1.3019467e-14, 2.9225828e-14, 9.7956697e-14, 3.6149360e-14,\n",
        "  1.4393436e-14, 2.1411201e-15, 8.0772672e-15, 4.2026153e-14, 1.5264853e-14]])\n",
        "\n",
        "predicted_class_index = np.argmax(prediction)\n",
        "print(predicted_class_index)  # Output: 3"
      ],
      "metadata": {
        "colab": {
          "base_uri": "https://localhost:8080/"
        },
        "id": "zJisHSiqoXEz",
        "outputId": "d3fc0142-e2b3-4fc8-c911-e2f4418f7989"
      },
      "execution_count": null,
      "outputs": [
        {
          "output_type": "stream",
          "name": "stdout",
          "text": [
            "0\n"
          ]
        }
      ]
    },
    {
      "cell_type": "code",
      "source": [
        "class_names = ['Eczema', 'melanoma', 'atopic dermatits', 'basal cell', 'melanocytic', 'benign', 'psoriasis', 'seborrheic', 'ringworm', 'warts']  # Replace with your actual class names\n",
        "\n",
        "predicted_class_index = np.argmax(prediction)\n",
        "predicted_class_name = class_names[predicted_class_index]\n",
        "\n",
        "print(f\"Predicted class index: {predicted_class_index}\")\n",
        "print(f\"Predicted class name: {predicted_class_name}\")"
      ],
      "metadata": {
        "id": "msODIhyWPPn2",
        "colab": {
          "base_uri": "https://localhost:8080/"
        },
        "outputId": "d9cdf9e0-5feb-4750-e205-beaae44ff969"
      },
      "execution_count": null,
      "outputs": [
        {
          "output_type": "stream",
          "name": "stdout",
          "text": [
            "Predicted class index: 0\n",
            "Predicted class name: Eczema\n"
          ]
        }
      ]
    }
  ]
}